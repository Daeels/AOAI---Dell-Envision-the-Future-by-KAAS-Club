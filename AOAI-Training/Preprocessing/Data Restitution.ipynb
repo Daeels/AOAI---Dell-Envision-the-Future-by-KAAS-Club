{
 "cells": [
  {
   "cell_type": "code",
   "execution_count": 1,
   "id": "0cca7208",
   "metadata": {},
   "outputs": [],
   "source": [
    "from sklearn.neighbors import *\n",
    "import matplotlib.pyplot as plt\n",
    "import pandas as pd\n",
    "import numpy as np\n",
    "from scipy.stats import norm\n",
    "import random as r\n",
    "import math\n",
    "from pickled import *"
   ]
  },
  {
   "cell_type": "code",
   "execution_count": 2,
   "id": "4cbd83bb",
   "metadata": {},
   "outputs": [],
   "source": [
    "data6 = pd.read_csv(\"filtered_2016.csv\")\n",
    "data7 = pd.read_csv(\"filtered_2017.csv\")\n",
    "data8 = pd.read_csv(\"filtered_2018_S1n.csv\")\n",
    "\n",
    "result = pd.merge(data6, data7, on=\"code\")\n",
    "merged_data = pd.merge(result, data8, on=\"code\")\n",
    "\n",
    "merged_data.to_csv('merged_all_data.csv')\n",
    "\n",
    "\n",
    "\n",
    "merged_data = merged_data.drop(['code', 'Nature', 'Barem', 'Annee'], axis=1)"
   ]
  },
  {
   "cell_type": "code",
   "execution_count": 3,
   "id": "250e301b",
   "metadata": {},
   "outputs": [],
   "source": [
    "def strong():\n",
    "    return round((norm.cdf(r.uniform(0.4,2)) * 5) , 0)\n",
    "\n",
    "def weak():\n",
    "    return round((norm.cdf(r.uniform(-0.4,-1.69)) * 5) , 0) + 1"
   ]
  },
  {
   "cell_type": "code",
   "execution_count": 4,
   "id": "7db50fa5",
   "metadata": {},
   "outputs": [
    {
     "name": "stdout",
     "output_type": "stream",
     "text": [
      "[[12.4   11.6   12.4   ... 12.6    2.    12.459]\n",
      " [ 7.4    7.2   11.5   ... 11.32   2.    12.082]\n",
      " [ 6.8    9.8   15.2   ... 13.48   0.    13.442]\n",
      " ...\n",
      " [10.4   13.2   16.    ... 12.84   2.    14.605]\n",
      " [ 6.    12.2   15.3   ... 12.84   1.    13.258]\n",
      " [ 5.4   13.6   12.9   ... 12.54   1.    11.855]]\n"
     ]
    }
   ],
   "source": [
    "data1 = merged_data.values\n",
    "print(data1)\n",
    "rev = np.zeros((len(data1),5))\n",
    "f = 0\n",
    "for i in range(len(data1)):\n",
    "    mean = data1[i,0:-2].mean()\n",
    "#     print(mean) \n",
    "    if mean < 11.5 :\n",
    "        f = 1\n",
    "    for j in range(5):\n",
    "        \n",
    "        if f == 1:\n",
    "            if r.uniform(0,1) < 0.05:\n",
    "                rev[i,j] = strong()\n",
    "\n",
    "            else:\n",
    "                rev[i,j] = weak()\n",
    "        else:\n",
    "            if r.uniform(0,1) < 0.05:\n",
    "                rev[i,j] = weak()\n",
    "            else:\n",
    "                rev[i,j] = strong()\n",
    "#         print(rev[i,j])    "
   ]
  },
  {
   "cell_type": "code",
   "execution_count": 5,
   "id": "8ef8085e",
   "metadata": {},
   "outputs": [],
   "source": [
    "data1 = np.hstack((data1,rev))"
   ]
  },
  {
   "cell_type": "code",
   "execution_count": 6,
   "id": "730c6d30",
   "metadata": {},
   "outputs": [
    {
     "data": {
      "text/plain": [
       "{'algorithm': 'auto',\n",
       " 'atol': 0,\n",
       " 'bandwidth': 0.25,\n",
       " 'breadth_first': True,\n",
       " 'kernel': 'gaussian',\n",
       " 'leaf_size': 40,\n",
       " 'metric': 'euclidean',\n",
       " 'metric_params': None,\n",
       " 'rtol': 0}"
      ]
     },
     "execution_count": 6,
     "metadata": {},
     "output_type": "execute_result"
    }
   ],
   "source": [
    "kde = KernelDensity(kernel='gaussian', bandwidth=0.25).fit(data1)\n",
    "kde.get_params(deep=True)"
   ]
  },
  {
   "cell_type": "code",
   "execution_count": 7,
   "id": "a22eaaa2",
   "metadata": {},
   "outputs": [],
   "source": [
    "data = kde.sample(10000)\n",
    "type(data)\n",
    "np.savetxt('notes.csv', data, fmt='%5.3f', delimiter=',')"
   ]
  },
  {
   "cell_type": "code",
   "execution_count": 8,
   "id": "1f5afeaf",
   "metadata": {},
   "outputs": [],
   "source": [
    "o = []\n",
    "for i in range(len(data)):\n",
    "    o.append(data[i,0:-7].mean())\n",
    "    \n",
    "o = np.array(o);p=o.reshape((10000,1))\n",
    "data = np.hstack((data,p))"
   ]
  },
  {
   "cell_type": "code",
   "execution_count": 9,
   "id": "34d4ac5a",
   "metadata": {},
   "outputs": [],
   "source": [
    "np.savetxt('dodo.csv', data, fmt='%5.3f', delimiter=',')"
   ]
  }
 ],
 "metadata": {
  "kernelspec": {
   "display_name": "Python 3",
   "language": "python",
   "name": "python3"
  },
  "language_info": {
   "codemirror_mode": {
    "name": "ipython",
    "version": 3
   },
   "file_extension": ".py",
   "mimetype": "text/x-python",
   "name": "python",
   "nbconvert_exporter": "python",
   "pygments_lexer": "ipython3",
   "version": "3.9.5"
  }
 },
 "nbformat": 4,
 "nbformat_minor": 5
}
