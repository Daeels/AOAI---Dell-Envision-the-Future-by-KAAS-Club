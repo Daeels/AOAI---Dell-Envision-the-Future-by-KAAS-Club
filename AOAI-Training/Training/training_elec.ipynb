{
 "cells": [
  {
   "cell_type": "code",
   "execution_count": 1,
   "metadata": {},
   "outputs": [],
   "source": [
    "from sklearn.neighbors import KernelDensity\n",
    "import matplotlib.pyplot as plt\n",
    "import pandas as pd\n",
    "import numpy as np\n",
    "from scipy.stats import norm\n",
    "import random as r\n",
    "import math\n",
    "import pickle \n",
    "import os.path\n",
    "from sklearn import preprocessing\n",
    "from sklearn.tree import DecisionTreeClassifier \n",
    "from sklearn.metrics import * \n",
    "from sklearn.model_selection import train_test_split\n",
    "from pickled.pickled import *"
   ]
  },
  {
   "cell_type": "code",
   "execution_count": 2,
   "metadata": {},
   "outputs": [
    {
     "name": "stdout",
     "output_type": "stream",
     "text": [
      "(2913, 10)\n"
     ]
    }
   ],
   "source": [
    "#Electrique\n",
    "coord_elec = unpickled(\"coord_elec\")\n",
    "print(coord_elec[:,:10].shape)"
   ]
  },
  {
   "cell_type": "code",
   "execution_count": 3,
   "metadata": {},
   "outputs": [
    {
     "name": "stdout",
     "output_type": "stream",
     "text": [
      "             0\n",
      "0     0.611725\n",
      "1     0.902368\n",
      "2     0.793574\n",
      "3     0.598309\n",
      "4     0.597182\n",
      "...        ...\n",
      "2908  0.620293\n",
      "2909  0.189966\n",
      "2910  0.832356\n",
      "2911  0.500113\n",
      "2912  0.494025\n",
      "\n",
      "[2913 rows x 1 columns]\n"
     ]
    }
   ],
   "source": [
    "#Normalisation\n",
    "Y_elec = unpickled(\"Y_elec\")\n",
    "values_elec = Y_elec.values #returns a numpy array\n",
    "values_elec = values_elec.reshape(-1, 1)\n",
    "min_max_scaler_elec = preprocessing.MinMaxScaler()\n",
    "scaled = min_max_scaler_elec.fit_transform(values_elec)\n",
    "pickled(min_max_scaler_elec,\"min_max_scaler_elec\")\n",
    "Y_elec = pd.DataFrame(scaled)\n",
    "print(Y_elec)"
   ]
  },
  {
   "cell_type": "code",
   "execution_count": 4,
   "metadata": {},
   "outputs": [
    {
     "name": "stdout",
     "output_type": "stream",
     "text": [
      "[0.61172492 0.90236753 0.79357384 ... 0.83235626 0.50011274 0.4940248 ]\n"
     ]
    }
   ],
   "source": [
    "Y_elec = np.array(Y_elec).ravel()\n",
    "print(Y_elec)\n",
    "encoded = Y_elec"
   ]
  },
  {
   "cell_type": "code",
   "execution_count": 5,
   "metadata": {},
   "outputs": [],
   "source": [
    "#print(coord_elec[:,:10])\n",
    "coord_elec[:,:10] = coord_elec[:,:10].astype('float')\n",
    "X_elec_train, X_elec_test, Y_elec_train, Y_elec_test = train_test_split(coord_elec[:,:10],encoded,test_size=0.2)\n",
    "#print(type(X_elec_train),type(Y_elec_train),type(X_elec_test),type(Y_elec_test))"
   ]
  },
  {
   "cell_type": "code",
   "execution_count": 6,
   "metadata": {
    "scrolled": true
   },
   "outputs": [
    {
     "name": "stdout",
     "output_type": "stream",
     "text": [
      "[0.56907441]\n",
      "0.5158962795941376\n"
     ]
    }
   ],
   "source": [
    "from sklearn.ensemble import RandomForestRegressor\n",
    "clf_elec = RandomForestRegressor(n_estimators=100)\n",
    "clf_elec.fit(X_elec_train, np.array(Y_elec_train))  \n",
    "# print(\"Results Using Random Forest:\") \n",
    "pickled(clf_elec,\"clf_elec\")\n",
    "y_pred_forest = clf_elec.predict(X_elec_test[0].reshape(-1, 1).T) \n",
    "print(y_pred_forest)\n",
    "print(Y_elec_test[0])\n",
    "# print(\"Confusion Matrix: \",confusion_matrix(np.array(Y_elec_test), y_pred_forest))      \n",
    "# print (\"Accuracy : \",accuracy_score(np.array(Y_elec_test),y_pred_forest)*100) \n",
    "# print(clf.score(X_elec_test,Y_elec_test))"
   ]
  },
  {
   "cell_type": "code",
   "execution_count": 7,
   "metadata": {
    "scrolled": true
   },
   "outputs": [
    {
     "name": "stdout",
     "output_type": "stream",
     "text": [
      "0.99\n"
     ]
    }
   ],
   "source": [
    "score_train = float(\"{:.2f}\".format(clf_elec.score(X_elec_train, Y_elec_train)))\n",
    "print(score_train)"
   ]
  },
  {
   "cell_type": "code",
   "execution_count": 8,
   "metadata": {},
   "outputs": [
    {
     "name": "stdout",
     "output_type": "stream",
     "text": [
      "0.95\n"
     ]
    }
   ],
   "source": [
    "score_test = float(\"{:.2f}\".format(clf_elec.score(X_elec_test, Y_elec_test)))\n",
    "print(score_test)"
   ]
  }
 ],
 "metadata": {
  "kernelspec": {
   "display_name": "Python 3",
   "language": "python",
   "name": "python3"
  },
  "language_info": {
   "codemirror_mode": {
    "name": "ipython",
    "version": 3
   },
   "file_extension": ".py",
   "mimetype": "text/x-python",
   "name": "python",
   "nbconvert_exporter": "python",
   "pygments_lexer": "ipython3",
   "version": "3.9.5"
  }
 },
 "nbformat": 4,
 "nbformat_minor": 4
}
