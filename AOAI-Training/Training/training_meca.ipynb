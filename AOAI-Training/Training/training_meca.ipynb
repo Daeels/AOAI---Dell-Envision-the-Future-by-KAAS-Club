{
 "cells": [
  {
   "cell_type": "code",
   "execution_count": 1,
   "metadata": {},
   "outputs": [],
   "source": [
    "from sklearn.neighbors import KernelDensity\n",
    "import matplotlib.pyplot as plt\n",
    "import pandas as pd\n",
    "import numpy as np\n",
    "from scipy.stats import norm\n",
    "import random as r\n",
    "import math\n",
    "import pickle \n",
    "import os.path\n",
    "from sklearn import preprocessing\n",
    "from sklearn.tree import DecisionTreeClassifier \n",
    "from sklearn.metrics import * \n",
    "from sklearn.model_selection import train_test_split\n",
    "from pickled.pickled import *"
   ]
  },
  {
   "cell_type": "code",
   "execution_count": 2,
   "metadata": {},
   "outputs": [
    {
     "name": "stdout",
     "output_type": "stream",
     "text": [
      "(3431, 10)\n"
     ]
    }
   ],
   "source": [
    "#Mecanique\n",
    "coord_meca = unpickled(\"coord_meca\")\n",
    "print(coord_meca[:,:10].shape)"
   ]
  },
  {
   "cell_type": "code",
   "execution_count": 3,
   "metadata": {},
   "outputs": [
    {
     "name": "stdout",
     "output_type": "stream",
     "text": [
      "             0\n",
      "0     0.759259\n",
      "1     0.719683\n",
      "2     0.669206\n",
      "3     0.538201\n",
      "4     0.567937\n",
      "...        ...\n",
      "3426  0.761376\n",
      "3427  0.509418\n",
      "3428  0.405397\n",
      "3429  0.560635\n",
      "3430  0.654392\n",
      "\n",
      "[3431 rows x 1 columns]\n"
     ]
    }
   ],
   "source": [
    "#Normalisation\n",
    "Y_meca = unpickled(\"Y_meca\")\n",
    "values_meca = Y_meca.values #returns a numpy array\n",
    "values_meca = values_meca.reshape(-1, 1)\n",
    "min_max_scaler_meca = preprocessing.MinMaxScaler()\n",
    "scaled = min_max_scaler_meca.fit_transform(values_meca)\n",
    "pickled(min_max_scaler_meca,\"min_max_scaler_meca\")\n",
    "Y_meca = pd.DataFrame(scaled)\n",
    "print(Y_meca)"
   ]
  },
  {
   "cell_type": "code",
   "execution_count": 4,
   "metadata": {},
   "outputs": [
    {
     "name": "stdout",
     "output_type": "stream",
     "text": [
      "[0.75925926 0.71968254 0.66920635 ... 0.40539683 0.56063492 0.65439153]\n"
     ]
    }
   ],
   "source": [
    "Y_meca = np.array(Y_meca).ravel()\n",
    "print(Y_meca)\n",
    "encoded = Y_meca"
   ]
  },
  {
   "cell_type": "code",
   "execution_count": 5,
   "metadata": {},
   "outputs": [],
   "source": [
    "#print(coord_meca[:,:10])\n",
    "coord_meca[:,:10] = coord_meca[:,:10].astype('float')\n",
    "X_meca_train, X_meca_test, Y_meca_train, Y_meca_test = train_test_split(coord_meca[:,:10],encoded,test_size=0.2)\n",
    "#print(type(X_meca_train),type(Y_meca_train),type(X_meca_test),type(Y_meca_test))"
   ]
  },
  {
   "cell_type": "code",
   "execution_count": 6,
   "metadata": {},
   "outputs": [],
   "source": [
    "#X_indus_test[0].reshape(-1, 1).T"
   ]
  },
  {
   "cell_type": "code",
   "execution_count": 7,
   "metadata": {
    "scrolled": true
   },
   "outputs": [
    {
     "name": "stdout",
     "output_type": "stream",
     "text": [
      "[0.59036085]\n",
      "0.5631746031746032\n"
     ]
    }
   ],
   "source": [
    "from sklearn.ensemble import RandomForestRegressor\n",
    "clf_meca = RandomForestRegressor(n_estimators=100)\n",
    "clf_meca.fit(X_meca_train, np.array(Y_meca_train))  \n",
    "# print(\"Results Using Random Forest:\") \n",
    "pickled(clf_meca,\"clf_meca\")\n",
    "y_pred_forest = clf_meca.predict(X_meca_test[0].reshape(-1, 1).T) \n",
    "print(y_pred_forest)\n",
    "print(Y_meca_test[0])\n",
    "# print(\"Confusion Matrix: \",confusion_matrix(np.array(Y_meca_test), y_pred_forest))      \n",
    "# print (\"Accuracy : \",accuracy_score(np.array(Y_meca_test),y_pred_forest)*100) \n",
    "# print(clf.score(X_meca_test,Y_meca_test))"
   ]
  },
  {
   "cell_type": "code",
   "execution_count": 8,
   "metadata": {
    "scrolled": true
   },
   "outputs": [
    {
     "name": "stdout",
     "output_type": "stream",
     "text": [
      "0.99\n"
     ]
    }
   ],
   "source": [
    "score_train = float(\"{:.2f}\".format(clf_meca.score(X_meca_train, Y_meca_train)))\n",
    "print(score_train)"
   ]
  },
  {
   "cell_type": "code",
   "execution_count": 9,
   "metadata": {},
   "outputs": [
    {
     "name": "stdout",
     "output_type": "stream",
     "text": [
      "0.96\n"
     ]
    }
   ],
   "source": [
    "score_test = float(\"{:.2f}\".format(clf_meca.score(X_meca_test, Y_meca_test)))\n",
    "print(score_test)"
   ]
  }
 ],
 "metadata": {
  "kernelspec": {
   "display_name": "Python 3",
   "language": "python",
   "name": "python3"
  },
  "language_info": {
   "codemirror_mode": {
    "name": "ipython",
    "version": 3
   },
   "file_extension": ".py",
   "mimetype": "text/x-python",
   "name": "python",
   "nbconvert_exporter": "python",
   "pygments_lexer": "ipython3",
   "version": "3.9.5"
  }
 },
 "nbformat": 4,
 "nbformat_minor": 4
}
