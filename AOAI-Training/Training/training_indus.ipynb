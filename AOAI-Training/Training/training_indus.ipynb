{
 "cells": [
  {
   "cell_type": "code",
   "execution_count": 1,
   "metadata": {},
   "outputs": [],
   "source": [
    "from sklearn.neighbors import KernelDensity\n",
    "import matplotlib.pyplot as plt\n",
    "import pandas as pd\n",
    "import numpy as np\n",
    "from scipy.stats import norm\n",
    "import random as r\n",
    "import math\n",
    "import pickle \n",
    "import os.path\n",
    "from sklearn import preprocessing\n",
    "from sklearn.tree import DecisionTreeClassifier \n",
    "from sklearn.metrics import * \n",
    "from sklearn.model_selection import train_test_split\n",
    "from pickled.pickled import *"
   ]
  },
  {
   "cell_type": "code",
   "execution_count": 2,
   "metadata": {},
   "outputs": [
    {
     "name": "stdout",
     "output_type": "stream",
     "text": [
      "(3656, 10)\n"
     ]
    }
   ],
   "source": [
    "#Industriel\n",
    "coord_indus = unpickled(\"coord_indus\")\n",
    "print(coord_indus[:,:10].shape)"
   ]
  },
  {
   "cell_type": "code",
   "execution_count": 3,
   "metadata": {},
   "outputs": [
    {
     "name": "stdout",
     "output_type": "stream",
     "text": [
      "             0\n",
      "0     0.600664\n",
      "1     0.618966\n",
      "2     0.711656\n",
      "3     0.264583\n",
      "4     0.732420\n",
      "...        ...\n",
      "3651  0.736166\n",
      "3652  0.651397\n",
      "3653  0.603339\n",
      "3654  0.573049\n",
      "3655  0.731243\n",
      "\n",
      "[3656 rows x 1 columns]\n"
     ]
    }
   ],
   "source": [
    "#Normalisation\n",
    "Y_indus = unpickled(\"Y_indus\")\n",
    "values_indus = Y_indus.values #returns a numpy array\n",
    "values_indus = values_indus.reshape(-1, 1)\n",
    "min_max_scaler_indus = preprocessing.MinMaxScaler()\n",
    "scaled = min_max_scaler_indus.fit_transform(values_indus)\n",
    "pickled(min_max_scaler_indus,\"min_max_scaler_indus\")\n",
    "Y_indus = pd.DataFrame(scaled)\n",
    "print(Y_indus)"
   ]
  },
  {
   "cell_type": "code",
   "execution_count": 4,
   "metadata": {},
   "outputs": [],
   "source": [
    "# Y_indus = np.array(Y_indus).ravel()\n",
    "# enc = preprocessing.LabelEncoder()\n",
    "# encoded = enc.fit_transform(Y_indus)\n",
    "# print(encoded)"
   ]
  },
  {
   "cell_type": "code",
   "execution_count": 5,
   "metadata": {},
   "outputs": [
    {
     "name": "stdout",
     "output_type": "stream",
     "text": [
      "[0.6006636  0.61896607 0.71165579 ... 0.6033394  0.57304934 0.73124264]\n"
     ]
    }
   ],
   "source": [
    "Y_indus = np.array(Y_indus).ravel()\n",
    "print(Y_indus)\n",
    "encoded = Y_indus"
   ]
  },
  {
   "cell_type": "code",
   "execution_count": 6,
   "metadata": {},
   "outputs": [],
   "source": [
    "#print(coord_indus[:,:10])\n",
    "coord_indus[:,:10] = coord_indus[:,:10].astype('float')\n",
    "X_indus_train, X_indus_test, Y_indus_train, Y_indus_test = train_test_split(coord_indus[:,:10],encoded,test_size=0.2)\n",
    "#print(type(X_indus_train),type(Y_indus_train),type(X_indus_test),type(Y_indus_test))"
   ]
  },
  {
   "cell_type": "code",
   "execution_count": 7,
   "metadata": {},
   "outputs": [],
   "source": [
    "#X_indus_test[0].reshape(-1, 1).T"
   ]
  },
  {
   "cell_type": "code",
   "execution_count": 8,
   "metadata": {
    "scrolled": true
   },
   "outputs": [
    {
     "name": "stdout",
     "output_type": "stream",
     "text": [
      "[0.73451996]\n",
      "0.737450497698812\n"
     ]
    }
   ],
   "source": [
    "from sklearn.ensemble import RandomForestRegressor\n",
    "clf_indus = RandomForestRegressor(n_estimators=100)\n",
    "clf_indus.fit(X_indus_train, np.array(Y_indus_train))  \n",
    "# print(\"Results Using Random Forest:\") \n",
    "pickled(clf_indus,\"clf_indus\")\n",
    "y_pred_forest = clf_indus.predict(X_indus_test[0].reshape(-1, 1).T) \n",
    "print(y_pred_forest)\n",
    "print(Y_indus_test[0])\n",
    "# print(\"Confusion Matrix: \",confusion_matrix(np.array(Y_indus_test), y_pred_forest))      \n",
    "# print (\"Accuracy : \",accuracy_score(np.array(Y_indus_test),y_pred_forest)*100) \n",
    "# print(clf.score(X_indus_test,Y_indus_test))"
   ]
  },
  {
   "cell_type": "code",
   "execution_count": 9,
   "metadata": {
    "scrolled": true
   },
   "outputs": [
    {
     "name": "stdout",
     "output_type": "stream",
     "text": [
      "0.99\n"
     ]
    }
   ],
   "source": [
    "score_train = float(\"{:.2f}\".format(clf_indus.score(X_indus_train, Y_indus_train)))\n",
    "print(score_train)"
   ]
  },
  {
   "cell_type": "code",
   "execution_count": 10,
   "metadata": {},
   "outputs": [
    {
     "name": "stdout",
     "output_type": "stream",
     "text": [
      "0.89\n"
     ]
    }
   ],
   "source": [
    "score_test = float(\"{:.2f}\".format(clf_indus.score(X_indus_test, Y_indus_test)))\n",
    "print(score_test)"
   ]
  }
 ],
 "metadata": {
  "kernelspec": {
   "display_name": "Python 3",
   "language": "python",
   "name": "python3"
  },
  "language_info": {
   "codemirror_mode": {
    "name": "ipython",
    "version": 3
   },
   "file_extension": ".py",
   "mimetype": "text/x-python",
   "name": "python",
   "nbconvert_exporter": "python",
   "pygments_lexer": "ipython3",
   "version": "3.9.5"
  }
 },
 "nbformat": 4,
 "nbformat_minor": 4
}
