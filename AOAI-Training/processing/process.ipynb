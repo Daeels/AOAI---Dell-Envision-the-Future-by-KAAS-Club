{
 "cells": [
  {
   "cell_type": "code",
   "execution_count": 7,
   "id": "5d87b316",
   "metadata": {},
   "outputs": [
    {
     "ename": "ModuleNotFoundError",
     "evalue": "No module named 'process_indus'",
     "output_type": "error",
     "traceback": [
      "\u001b[1;31m---------------------------------------------------------------------------\u001b[0m",
      "\u001b[1;31mModuleNotFoundError\u001b[0m                       Traceback (most recent call last)",
      "\u001b[1;32m~\\AppData\\Local\\Temp/ipykernel_13412/462260632.py\u001b[0m in \u001b[0;36m<module>\u001b[1;34m\u001b[0m\n\u001b[1;32m----> 1\u001b[1;33m \u001b[1;32mimport\u001b[0m \u001b[0mprocess_indus\u001b[0m\u001b[1;33m,\u001b[0m \u001b[0mprocess_elec\u001b[0m\u001b[1;33m,\u001b[0m \u001b[0mprocess_meca\u001b[0m\u001b[1;33m\u001b[0m\u001b[1;33m\u001b[0m\u001b[0m\n\u001b[0m",
      "\u001b[1;31mModuleNotFoundError\u001b[0m: No module named 'process_indus'"
     ]
    }
   ],
   "source": [
    "import process_indus, process_elec, process_meca"
   ]
  },
  {
   "cell_type": "code",
   "execution_count": null,
   "id": "f010831a",
   "metadata": {},
   "outputs": [],
   "source": [
    "def ACP(liste_notes) :\n",
    "    X = unpickled(\"X\")\n",
    "    X.loc[X.index[-1] + 1] = (liste_notes)\n",
    "    #Moyennes\n",
    "    moyennes = np.mean(X.values,axis=0)\n",
    "    #vecteur écart-type\n",
    "    s=np.std(X.values,axis=0)\n",
    "    #centrage et réduction \n",
    "    Z=(X.values-moyennes)/s\n",
    "    #calcul des valeurs propres\n",
    "    acp = unpickled(\"acp\")\n",
    "    #coordonnées factorielles\n",
    "    coord = acp.transform(Z)\n",
    "    X = coord[-1,:10]\n",
    "    return X   "
   ]
  },
  {
   "cell_type": "code",
   "execution_count": 2,
   "id": "b7184256",
   "metadata": {},
   "outputs": [],
   "source": [
    "def process(id_etudiant,ANALYSE1,ANALYSE2,ALGEBRE2,PROCEFABRICDESSINTECHN,ANALYSEDESCIRCUIOPTIQ,ALGEBRE1,CHIMIE,ELECTRICITE,THERMODYNAMIQUE,LANGUES,TECHNIDEXPRESSCOMMU1,Mecaniquedupoint,ELECTROMAGNETISME,ELECTRONIQUE,ANALYSNUMERPROBSTAT,ALGORITHMIQUEPROGRAMMA,BASEDELACONCEPTION,TECHNOMETALLETTHERMO,TECHNIDOCPRODDOCENTR,DAOETOUTILSDEMATLAB,ALGEBRE3,MECANIQUEDUSOLIDE,TECHNDEXPREETDECOMM,MOYENNE) :\n",
    "    X_i = ACP_indus(ANALYSE1,ANALYSE2,ALGEBRE2,PROCEFABRICDESSINTECHN,ANALYSEDESCIRCUIOPTIQ,ALGEBRE1,CHIMIE,ELECTRICITE,THERMODYNAMIQUE,LANGUES,TECHNIDEXPRESSCOMMU1,Mecaniquedupoint,ELECTROMAGNETISME,ELECTRONIQUE,ANALYSNUMERPROBSTAT,ALGORITHMIQUEPROGRAMMA,BASEDELACONCEPTION,TECHNOMETALLETTHERMO,TECHNIDOCPRODDOCENTR,DAOETOUTILSDEMATLAB,ALGEBRE3,MECANIQUEDUSOLIDE,TECHNDEXPREETDECOMM,MOYENNE)\n",
    "    Y_i = train_indus(X_i)\n",
    "    # X_indus = unpickled(\"X_indus\")\n",
    "    # X_indus.loc[X_indus.index[-1] + 1] = ([ANALYSE1,ANALYSE2,ALGEBRE2,PROCEFABRICDESSINTECHN,ANALYSEDESCIRCUIOPTIQ,ALGEBRE1,CHIMIE,ELECTRICITE,THERMODYNAMIQUE,LANGUES,TECHNIDEXPRESSCOMMU1,Mecaniquedupoint,ELECTROMAGNETISME,ELECTRONIQUE,ANALYSNUMERPROBSTAT,ALGORITHMIQUEPROGRAMMA,BASEDELACONCEPTION,TECHNOMETALLETTHERMO,TECHNIDOCPRODDOCENTR,DAOETOUTILSDEMATLAB,ALGEBRE3,MECANIQUEDUSOLIDE,TECHNDEXPREETDECOMM,MOYENNE])\n",
    "    # pickled(X_indus,\"X_indus\")\n",
    "    X_m = ACP_meca(ANALYSE1,ANALYSE2,ALGEBRE2,PROCEFABRICDESSINTECHN,ANALYSEDESCIRCUIOPTIQ,ALGEBRE1,CHIMIE,ELECTRICITE,THERMODYNAMIQUE,LANGUES,TECHNIDEXPRESSCOMMU1,Mecaniquedupoint,ELECTROMAGNETISME,ELECTRONIQUE,ANALYSNUMERPROBSTAT,ALGORITHMIQUEPROGRAMMA,BASEDELACONCEPTION,TECHNOMETALLETTHERMO,TECHNIDOCPRODDOCENTR,DAOETOUTILSDEMATLAB,ALGEBRE3,MECANIQUEDUSOLIDE,TECHNDEXPREETDECOMM,MOYENNE)\n",
    "    Y_m = train_meca(X_m)\n",
    "    # X_meca = unpickled(\"X_meca\")\n",
    "    # X_meca.loc[X_meca.index[-1] + 1] = ([ANALYSE1,ANALYSE2,ALGEBRE2,PROCEFABRICDESSINTECHN,ANALYSEDESCIRCUIOPTIQ,ALGEBRE1,CHIMIE,ELECTRICITE,THERMODYNAMIQUE,LANGUES,TECHNIDEXPRESSCOMMU1,Mecaniquedupoint,ELECTROMAGNETISME,ELECTRONIQUE,ANALYSNUMERPROBSTAT,ALGORITHMIQUEPROGRAMMA,BASEDELACONCEPTION,TECHNOMETALLETTHERMO,TECHNIDOCPRODDOCENTR,DAOETOUTILSDEMATLAB,ALGEBRE3,MECANIQUEDUSOLIDE,TECHNDEXPREETDECOMM,MOYENNE])\n",
    "    # pickled(X_meca,\"X_meca\")\n",
    "    X_e = ACP_elec(ANALYSE1,ANALYSE2,ALGEBRE2,PROCEFABRICDESSINTECHN,ANALYSEDESCIRCUIOPTIQ,ALGEBRE1,CHIMIE,ELECTRICITE,THERMODYNAMIQUE,LANGUES,TECHNIDEXPRESSCOMMU1,Mecaniquedupoint,ELECTROMAGNETISME,ELECTRONIQUE,ANALYSNUMERPROBSTAT,ALGORITHMIQUEPROGRAMMA,BASEDELACONCEPTION,TECHNOMETALLETTHERMO,TECHNIDOCPRODDOCENTR,DAOETOUTILSDEMATLAB,ALGEBRE3,MECANIQUEDUSOLIDE,TECHNDEXPREETDECOMM,MOYENNE)\n",
    "    Y_e = train_elec(X_e)\n",
    "    # X_meca = unpickled(\"X_meca\")\n",
    "    # X_meca.loc[X_meca.index[-1] + 1] = ([ANALYSE1,ANALYSE2,ALGEBRE2,PROCEFABRICDESSINTECHN,ANALYSEDESCIRCUIOPTIQ,ALGEBRE1,CHIMIE,ELECTRICITE,THERMODYNAMIQUE,LANGUES,TECHNIDEXPRESSCOMMU1,Mecaniquedupoint,ELECTROMAGNETISME,ELECTRONIQUE,ANALYSNUMERPROBSTAT,ALGORITHMIQUEPROGRAMMA,BASEDELACONCEPTION,TECHNOMETALLETTHERMO,TECHNIDOCPRODDOCENTR,DAOETOUTILSDEMATLAB,ALGEBRE3,MECANIQUEDUSOLIDE,TECHNDEXPREETDECOMM,MOYENNE])\n",
    "    # pickled(X_meca,\"X_meca\")\n",
    "    return Y_i,Y_m,Y_e"
   ]
  },
  {
   "cell_type": "code",
   "execution_count": 3,
   "id": "fdd31daf",
   "metadata": {},
   "outputs": [
    {
     "ename": "NameError",
     "evalue": "name 'ACP_indus' is not defined",
     "output_type": "error",
     "traceback": [
      "\u001b[1;31m---------------------------------------------------------------------------\u001b[0m",
      "\u001b[1;31mNameError\u001b[0m                                 Traceback (most recent call last)",
      "\u001b[1;32m~\\AppData\\Local\\Temp/ipykernel_13412/2003498942.py\u001b[0m in \u001b[0;36m<module>\u001b[1;34m\u001b[0m\n\u001b[1;32m----> 1\u001b[1;33m \u001b[0mY_i\u001b[0m\u001b[1;33m,\u001b[0m\u001b[0mY_m\u001b[0m\u001b[1;33m,\u001b[0m\u001b[0mY_e\u001b[0m \u001b[1;33m=\u001b[0m \u001b[0mprocess\u001b[0m\u001b[1;33m(\u001b[0m\u001b[1;36m1\u001b[0m\u001b[1;33m,\u001b[0m\u001b[1;36m10\u001b[0m\u001b[1;33m,\u001b[0m\u001b[1;36m10\u001b[0m\u001b[1;33m,\u001b[0m\u001b[1;36m10\u001b[0m\u001b[1;33m,\u001b[0m\u001b[1;36m10\u001b[0m\u001b[1;33m,\u001b[0m\u001b[1;36m10\u001b[0m\u001b[1;33m,\u001b[0m\u001b[1;36m10\u001b[0m\u001b[1;33m,\u001b[0m\u001b[1;36m10\u001b[0m\u001b[1;33m,\u001b[0m\u001b[1;36m10\u001b[0m\u001b[1;33m,\u001b[0m\u001b[1;36m10\u001b[0m\u001b[1;33m,\u001b[0m\u001b[1;36m10\u001b[0m\u001b[1;33m,\u001b[0m\u001b[1;36m10\u001b[0m\u001b[1;33m,\u001b[0m\u001b[1;36m10\u001b[0m\u001b[1;33m,\u001b[0m\u001b[1;36m10\u001b[0m\u001b[1;33m,\u001b[0m\u001b[1;36m10\u001b[0m\u001b[1;33m,\u001b[0m\u001b[1;36m10\u001b[0m\u001b[1;33m,\u001b[0m\u001b[1;36m10\u001b[0m\u001b[1;33m,\u001b[0m\u001b[1;36m10\u001b[0m\u001b[1;33m,\u001b[0m\u001b[1;36m10\u001b[0m\u001b[1;33m,\u001b[0m\u001b[1;36m10\u001b[0m\u001b[1;33m,\u001b[0m\u001b[1;36m10\u001b[0m\u001b[1;33m,\u001b[0m\u001b[1;36m10\u001b[0m\u001b[1;33m,\u001b[0m\u001b[1;36m10\u001b[0m\u001b[1;33m,\u001b[0m\u001b[1;36m10\u001b[0m\u001b[1;33m,\u001b[0m\u001b[1;36m10\u001b[0m\u001b[1;33m)\u001b[0m\u001b[1;33m\u001b[0m\u001b[1;33m\u001b[0m\u001b[0m\n\u001b[0m\u001b[0;32m      2\u001b[0m \u001b[0mprint\u001b[0m\u001b[1;33m(\u001b[0m\u001b[0mY_i\u001b[0m\u001b[1;33m,\u001b[0m\u001b[0mY_m\u001b[0m\u001b[1;33m,\u001b[0m\u001b[0mY_e\u001b[0m\u001b[1;33m)\u001b[0m\u001b[1;33m\u001b[0m\u001b[1;33m\u001b[0m\u001b[0m\n",
      "\u001b[1;32m~\\AppData\\Local\\Temp/ipykernel_13412/883966502.py\u001b[0m in \u001b[0;36mprocess\u001b[1;34m(id_etudiant, ANALYSE1, ANALYSE2, ALGEBRE2, PROCEFABRICDESSINTECHN, ANALYSEDESCIRCUIOPTIQ, ALGEBRE1, CHIMIE, ELECTRICITE, THERMODYNAMIQUE, LANGUES, TECHNIDEXPRESSCOMMU1, Mecaniquedupoint, ELECTROMAGNETISME, ELECTRONIQUE, ANALYSNUMERPROBSTAT, ALGORITHMIQUEPROGRAMMA, BASEDELACONCEPTION, TECHNOMETALLETTHERMO, TECHNIDOCPRODDOCENTR, DAOETOUTILSDEMATLAB, ALGEBRE3, MECANIQUEDUSOLIDE, TECHNDEXPREETDECOMM, MOYENNE)\u001b[0m\n\u001b[0;32m      1\u001b[0m \u001b[1;32mdef\u001b[0m \u001b[0mprocess\u001b[0m\u001b[1;33m(\u001b[0m\u001b[0mid_etudiant\u001b[0m\u001b[1;33m,\u001b[0m\u001b[0mANALYSE1\u001b[0m\u001b[1;33m,\u001b[0m\u001b[0mANALYSE2\u001b[0m\u001b[1;33m,\u001b[0m\u001b[0mALGEBRE2\u001b[0m\u001b[1;33m,\u001b[0m\u001b[0mPROCEFABRICDESSINTECHN\u001b[0m\u001b[1;33m,\u001b[0m\u001b[0mANALYSEDESCIRCUIOPTIQ\u001b[0m\u001b[1;33m,\u001b[0m\u001b[0mALGEBRE1\u001b[0m\u001b[1;33m,\u001b[0m\u001b[0mCHIMIE\u001b[0m\u001b[1;33m,\u001b[0m\u001b[0mELECTRICITE\u001b[0m\u001b[1;33m,\u001b[0m\u001b[0mTHERMODYNAMIQUE\u001b[0m\u001b[1;33m,\u001b[0m\u001b[0mLANGUES\u001b[0m\u001b[1;33m,\u001b[0m\u001b[0mTECHNIDEXPRESSCOMMU1\u001b[0m\u001b[1;33m,\u001b[0m\u001b[0mMecaniquedupoint\u001b[0m\u001b[1;33m,\u001b[0m\u001b[0mELECTROMAGNETISME\u001b[0m\u001b[1;33m,\u001b[0m\u001b[0mELECTRONIQUE\u001b[0m\u001b[1;33m,\u001b[0m\u001b[0mANALYSNUMERPROBSTAT\u001b[0m\u001b[1;33m,\u001b[0m\u001b[0mALGORITHMIQUEPROGRAMMA\u001b[0m\u001b[1;33m,\u001b[0m\u001b[0mBASEDELACONCEPTION\u001b[0m\u001b[1;33m,\u001b[0m\u001b[0mTECHNOMETALLETTHERMO\u001b[0m\u001b[1;33m,\u001b[0m\u001b[0mTECHNIDOCPRODDOCENTR\u001b[0m\u001b[1;33m,\u001b[0m\u001b[0mDAOETOUTILSDEMATLAB\u001b[0m\u001b[1;33m,\u001b[0m\u001b[0mALGEBRE3\u001b[0m\u001b[1;33m,\u001b[0m\u001b[0mMECANIQUEDUSOLIDE\u001b[0m\u001b[1;33m,\u001b[0m\u001b[0mTECHNDEXPREETDECOMM\u001b[0m\u001b[1;33m,\u001b[0m\u001b[0mMOYENNE\u001b[0m\u001b[1;33m)\u001b[0m \u001b[1;33m:\u001b[0m\u001b[1;33m\u001b[0m\u001b[1;33m\u001b[0m\u001b[0m\n\u001b[1;32m----> 2\u001b[1;33m     \u001b[0mX_i\u001b[0m \u001b[1;33m=\u001b[0m \u001b[0mACP_indus\u001b[0m\u001b[1;33m(\u001b[0m\u001b[0mANALYSE1\u001b[0m\u001b[1;33m,\u001b[0m\u001b[0mANALYSE2\u001b[0m\u001b[1;33m,\u001b[0m\u001b[0mALGEBRE2\u001b[0m\u001b[1;33m,\u001b[0m\u001b[0mPROCEFABRICDESSINTECHN\u001b[0m\u001b[1;33m,\u001b[0m\u001b[0mANALYSEDESCIRCUIOPTIQ\u001b[0m\u001b[1;33m,\u001b[0m\u001b[0mALGEBRE1\u001b[0m\u001b[1;33m,\u001b[0m\u001b[0mCHIMIE\u001b[0m\u001b[1;33m,\u001b[0m\u001b[0mELECTRICITE\u001b[0m\u001b[1;33m,\u001b[0m\u001b[0mTHERMODYNAMIQUE\u001b[0m\u001b[1;33m,\u001b[0m\u001b[0mLANGUES\u001b[0m\u001b[1;33m,\u001b[0m\u001b[0mTECHNIDEXPRESSCOMMU1\u001b[0m\u001b[1;33m,\u001b[0m\u001b[0mMecaniquedupoint\u001b[0m\u001b[1;33m,\u001b[0m\u001b[0mELECTROMAGNETISME\u001b[0m\u001b[1;33m,\u001b[0m\u001b[0mELECTRONIQUE\u001b[0m\u001b[1;33m,\u001b[0m\u001b[0mANALYSNUMERPROBSTAT\u001b[0m\u001b[1;33m,\u001b[0m\u001b[0mALGORITHMIQUEPROGRAMMA\u001b[0m\u001b[1;33m,\u001b[0m\u001b[0mBASEDELACONCEPTION\u001b[0m\u001b[1;33m,\u001b[0m\u001b[0mTECHNOMETALLETTHERMO\u001b[0m\u001b[1;33m,\u001b[0m\u001b[0mTECHNIDOCPRODDOCENTR\u001b[0m\u001b[1;33m,\u001b[0m\u001b[0mDAOETOUTILSDEMATLAB\u001b[0m\u001b[1;33m,\u001b[0m\u001b[0mALGEBRE3\u001b[0m\u001b[1;33m,\u001b[0m\u001b[0mMECANIQUEDUSOLIDE\u001b[0m\u001b[1;33m,\u001b[0m\u001b[0mTECHNDEXPREETDECOMM\u001b[0m\u001b[1;33m,\u001b[0m\u001b[0mMOYENNE\u001b[0m\u001b[1;33m)\u001b[0m\u001b[1;33m\u001b[0m\u001b[1;33m\u001b[0m\u001b[0m\n\u001b[0m\u001b[0;32m      3\u001b[0m     \u001b[0mY_i\u001b[0m \u001b[1;33m=\u001b[0m \u001b[0mtrain_indus\u001b[0m\u001b[1;33m(\u001b[0m\u001b[0mX_i\u001b[0m\u001b[1;33m)\u001b[0m\u001b[1;33m\u001b[0m\u001b[1;33m\u001b[0m\u001b[0m\n\u001b[0;32m      4\u001b[0m     \u001b[1;31m# X_indus = unpickled(\"X_indus\")\u001b[0m\u001b[1;33m\u001b[0m\u001b[1;33m\u001b[0m\u001b[1;33m\u001b[0m\u001b[0m\n\u001b[0;32m      5\u001b[0m     \u001b[1;31m# X_indus.loc[X_indus.index[-1] + 1] = ([ANALYSE1,ANALYSE2,ALGEBRE2,PROCEFABRICDESSINTECHN,ANALYSEDESCIRCUIOPTIQ,ALGEBRE1,CHIMIE,ELECTRICITE,THERMODYNAMIQUE,LANGUES,TECHNIDEXPRESSCOMMU1,Mecaniquedupoint,ELECTROMAGNETISME,ELECTRONIQUE,ANALYSNUMERPROBSTAT,ALGORITHMIQUEPROGRAMMA,BASEDELACONCEPTION,TECHNOMETALLETTHERMO,TECHNIDOCPRODDOCENTR,DAOETOUTILSDEMATLAB,ALGEBRE3,MECANIQUEDUSOLIDE,TECHNDEXPREETDECOMM,MOYENNE])\u001b[0m\u001b[1;33m\u001b[0m\u001b[1;33m\u001b[0m\u001b[1;33m\u001b[0m\u001b[0m\n",
      "\u001b[1;31mNameError\u001b[0m: name 'ACP_indus' is not defined"
     ]
    }
   ],
   "source": [
    "Y_i,Y_m,Y_e = process(1,10,10,10,10,10,10,10,10,10,10,10,10,10,10,10,10,10,10,10,10,10,10,10,10)\n",
    "print(Y_i,Y_m,Y_e)"
   ]
  },
  {
   "cell_type": "code",
   "execution_count": null,
   "id": "ec639ce7",
   "metadata": {},
   "outputs": [],
   "source": []
  }
 ],
 "metadata": {
  "kernelspec": {
   "display_name": "Python 3",
   "language": "python",
   "name": "python3"
  },
  "language_info": {
   "codemirror_mode": {
    "name": "ipython",
    "version": 3
   },
   "file_extension": ".py",
   "mimetype": "text/x-python",
   "name": "python",
   "nbconvert_exporter": "python",
   "pygments_lexer": "ipython3",
   "version": "3.9.5"
  }
 },
 "nbformat": 4,
 "nbformat_minor": 5
}
