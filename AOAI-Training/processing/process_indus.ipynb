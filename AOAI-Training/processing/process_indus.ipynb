{
 "cells": [
  {
   "cell_type": "code",
   "execution_count": 1,
   "id": "8fd0a0c7",
   "metadata": {},
   "outputs": [],
   "source": [
    "import pickle \n",
    "import os\n",
    "import pandas as pd\n",
    "import numpy as np\n",
    "from sklearn.decomposition import PCA\n",
    "from sklearn.neighbors import KernelDensity\n",
    "import matplotlib.pyplot as plt\n",
    "from scipy.stats import norm\n",
    "import random as r\n",
    "import math\n",
    "import pickle \n",
    "from sklearn import preprocessing\n",
    "from sklearn.tree import DecisionTreeClassifier \n",
    "from sklearn.metrics import * \n",
    "from sklearn.model_selection import train_test_split\n",
    "from sklearn.ensemble import RandomForestRegressor\n",
    "from pickled.pickled import *"
   ]
  },
  {
   "cell_type": "code",
   "execution_count": 3,
   "id": "16caf19d",
   "metadata": {},
   "outputs": [],
   "source": [
    "def ACP_indus(ANALYSE1,ANALYSE2,ALGEBRE2,PROCEFABRICDESSINTECHN,ANALYSEDESCIRCUIOPTIQ,ALGEBRE1,CHIMIE,ELECTRICITE,THERMODYNAMIQUE,LANGUES,TECHNIDEXPRESSCOMMU1,Mecaniquedupoint,ELECTROMAGNETISME,ELECTRONIQUE,ANALYSNUMERPROBSTAT,ALGORITHMIQUEPROGRAMMA,BASEDELACONCEPTION,TECHNOMETALLETTHERMO,TECHNIDOCPRODDOCENTR,DAOETOUTILSDEMATLAB,ALGEBRE3,MECANIQUEDUSOLIDE,TECHNDEXPREETDECOMM,MOYENNE) :\n",
    "    X_indus = unpickled(\"X_indus\")\n",
    "    X_indus.loc[X_indus.index[-1] + 1] = ([ANALYSE1,ANALYSE2,ALGEBRE2,PROCEFABRICDESSINTECHN,ANALYSEDESCIRCUIOPTIQ,ALGEBRE1,CHIMIE,ELECTRICITE,THERMODYNAMIQUE,LANGUES,TECHNIDEXPRESSCOMMU1,Mecaniquedupoint,ELECTROMAGNETISME,ELECTRONIQUE,ANALYSNUMERPROBSTAT,ALGORITHMIQUEPROGRAMMA,BASEDELACONCEPTION,TECHNOMETALLETTHERMO,TECHNIDOCPRODDOCENTR,DAOETOUTILSDEMATLAB,ALGEBRE3,MECANIQUEDUSOLIDE,TECHNDEXPREETDECOMM,MOYENNE])\n",
    "    #Matrice de Correlation\n",
    "    R_indus = np.corrcoef(X_indus.values,rowvar=False)\n",
    "    #Moyennes\n",
    "    moyennes_indus = np.mean(X_indus.values,axis=0)\n",
    "    #vecteur écart-type\n",
    "    s_indus=np.std(X_indus.values,axis=0)\n",
    "    #centrage et réduction \n",
    "    Z_indus=(X_indus.values-moyennes_indus)/s_indus\n",
    "    #calcul des valeurs propres\n",
    "    acp = PCA()\n",
    "    #coordonnées factorielles\n",
    "    coord_indus = acp.fit_transform(Z_indus)\n",
    "    X = coord_indus[-1,:10]\n",
    "    return X   "
   ]
  },
  {
   "cell_type": "code",
   "execution_count": 4,
   "id": "456b4cc1",
   "metadata": {},
   "outputs": [],
   "source": [
    "def train_indus(X) :\n",
    "    #Industriel\n",
    "    coord_indus = unpickled(\"coord_indus\")\n",
    "    #Normalisation\n",
    "    min_max_scaler_indus = unpickled(\"min_max_scaler_indus\")\n",
    "    clf_indus = unpickled(\"clf_indus\")\n",
    "    y_pred = clf_indus.predict(X.reshape(-1, 1).T) \n",
    "    y_pred = str(float(\"{:.2f}\".format(y_pred[0]*100))) + \"%\"\n",
    "    return y_pred"
   ]
  },
  {
   "cell_type": "code",
   "execution_count": 5,
   "id": "66f6a612",
   "metadata": {},
   "outputs": [
    {
     "name": "stdout",
     "output_type": "stream",
     "text": [
      "[-6.13169468  5.15325208 -0.38674239 -1.27133546  1.05646079  0.23865331\n",
      "  0.37714363  0.07967212  2.75941743  1.3863542 ]\n"
     ]
    }
   ],
   "source": [
    "X = ACP_indus(10,10,10,10,10,10,10,10,10,10,10,10,10,10,10,10,10,10,10,10,10,10,10,10) \n",
    "print(X)"
   ]
  },
  {
   "cell_type": "code",
   "execution_count": 14,
   "id": "43b51287",
   "metadata": {},
   "outputs": [
    {
     "name": "stdout",
     "output_type": "stream",
     "text": [
      "42.704912768917936\n",
      "42.7%\n"
     ]
    }
   ],
   "source": [
    "y_pred = train_indus(X)\n",
    "print(y_pred[0]*100)\n",
    "y_pred = str(float(\"{:.2f}\".format(y_pred[0]*100))) + \"%\"\n",
    "print(y_pred)"
   ]
  }
 ],
 "metadata": {
  "kernelspec": {
   "display_name": "Python 3",
   "language": "python",
   "name": "python3"
  },
  "language_info": {
   "codemirror_mode": {
    "name": "ipython",
    "version": 3
   },
   "file_extension": ".py",
   "mimetype": "text/x-python",
   "name": "python",
   "nbconvert_exporter": "python",
   "pygments_lexer": "ipython3",
   "version": "3.9.5"
  }
 },
 "nbformat": 4,
 "nbformat_minor": 5
}
