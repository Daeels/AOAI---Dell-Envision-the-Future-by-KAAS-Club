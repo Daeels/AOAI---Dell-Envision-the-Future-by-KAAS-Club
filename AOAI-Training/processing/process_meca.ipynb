{
 "cells": [
  {
   "cell_type": "code",
   "execution_count": 1,
   "id": "8fd0a0c7",
   "metadata": {},
   "outputs": [],
   "source": [
    "import pickle \n",
    "import os\n",
    "import pandas as pd\n",
    "import numpy as np\n",
    "from sklearn.decomposition import PCA\n",
    "from sklearn.neighbors import KernelDensity\n",
    "import matplotlib.pyplot as plt\n",
    "from scipy.stats import norm\n",
    "import random as r\n",
    "import math\n",
    "import pickle \n",
    "from sklearn import preprocessing\n",
    "from sklearn.tree import DecisionTreeClassifier \n",
    "from sklearn.metrics import * \n",
    "from sklearn.model_selection import train_test_split\n",
    "from sklearn.ensemble import RandomForestRegressor\n",
    "def pickled(variable,string) :\n",
    "    directory = os.path.join(\"pickled\",string+\".pickle\")\n",
    "    pickle_out = open(directory,\"wb\")\n",
    "    pickle.dump(variable,pickle_out)\n",
    "    pickle_out.close()\n",
    "def unpickled(string) :\n",
    "    directory = os.path.join(\"pickled\",string+\".pickle\")\n",
    "    pickle_in = open(directory,\"rb\")\n",
    "    variable = pickle.load(pickle_in)\n",
    "    return variable"
   ]
  },
  {
   "cell_type": "code",
   "execution_count": 2,
   "id": "16caf19d",
   "metadata": {},
   "outputs": [],
   "source": [
    "def ACP_meca(ANALYSE1,ANALYSE2,ALGEBRE2,PROCEFABRICDESSINTECHN,ANALYSEDESCIRCUIOPTIQ,ALGEBRE1,CHIMIE,ELECTRICITE,THERMODYNAMIQUE,LANGUES,TECHNIDEXPRESSCOMMU1,Mecaniquedupoint,ELECTROMAGNETISME,ELECTRONIQUE,ANALYSNUMERPROBSTAT,ALGORITHMIQUEPROGRAMMA,BASEDELACONCEPTION,TECHNOMETALLETTHERMO,TECHNIDOCPRODDOCENTR,DAOETOUTILSDEMATLAB,ALGEBRE3,MECANIQUEDUSOLIDE,TECHNDEXPREETDECOMM,MOYENNE) :\n",
    "    X_meca = unpickled(\"X_meca\")\n",
    "    X_meca.loc[X_meca.index[-1] + 1] = ([ANALYSE1,ANALYSE2,ALGEBRE2,PROCEFABRICDESSINTECHN,ANALYSEDESCIRCUIOPTIQ,ALGEBRE1,CHIMIE,ELECTRICITE,THERMODYNAMIQUE,LANGUES,TECHNIDEXPRESSCOMMU1,Mecaniquedupoint,ELECTROMAGNETISME,ELECTRONIQUE,ANALYSNUMERPROBSTAT,ALGORITHMIQUEPROGRAMMA,BASEDELACONCEPTION,TECHNOMETALLETTHERMO,TECHNIDOCPRODDOCENTR,DAOETOUTILSDEMATLAB,ALGEBRE3,MECANIQUEDUSOLIDE,TECHNDEXPREETDECOMM,MOYENNE])\n",
    "    #Matrice de Correlation\n",
    "    R_meca = np.corrcoef(X_meca.values,rowvar=False)\n",
    "    #Moyennes\n",
    "    moyennes_meca = np.mean(X_meca.values,axis=0)\n",
    "    #vecteur écart-type\n",
    "    s_meca=np.std(X_meca.values,axis=0)\n",
    "    #centrage et réduction \n",
    "    Z_meca=(X_meca.values-moyennes_meca)/s_meca\n",
    "    #calcul des valeurs propres\n",
    "    acp = PCA()\n",
    "    #coordonnées factorielles\n",
    "    coord_meca = acp.fit_transform(Z_meca)\n",
    "    X = coord_meca[-1,:10]\n",
    "    return X   "
   ]
  },
  {
   "cell_type": "code",
   "execution_count": 3,
   "id": "456b4cc1",
   "metadata": {},
   "outputs": [],
   "source": [
    "def train_meca(X) :\n",
    "    #Mecanique\n",
    "    coord_meca = unpickled(\"coord_meca\")\n",
    "    #Normalisation\n",
    "    min_max_scaler_meca = unpickled(\"min_max_scaler_meca\")\n",
    "    clf_meca = unpickled(\"clf_meca\")\n",
    "    y_pred = clf_meca.predict(X.reshape(-1, 1).T) \n",
    "    y_pred = str(float(\"{:.2f}\".format(y_pred[0]*100))) + \"%\"\n",
    "    return y_pred"
   ]
  },
  {
   "cell_type": "code",
   "execution_count": 4,
   "id": "66f6a612",
   "metadata": {},
   "outputs": [
    {
     "name": "stdout",
     "output_type": "stream",
     "text": [
      "[-3.20083514  4.26289481  0.86803994  1.47758889 -0.04833373 -0.33592354\n",
      " -0.56760349 -0.50855062  0.96398407 -1.60394017]\n"
     ]
    }
   ],
   "source": [
    "X = ACP_meca(10,10,10,10,10,10,10,10,10,10,10,10,10,10,10,10,10,10,10,10,10,10,10,10) \n",
    "print(X)"
   ]
  },
  {
   "cell_type": "code",
   "execution_count": 5,
   "id": "43b51287",
   "metadata": {},
   "outputs": [
    {
     "name": "stdout",
     "output_type": "stream",
     "text": [
      "46.48%\n"
     ]
    }
   ],
   "source": [
    "y_pred = train_meca(X)\n",
    "print(y_pred)"
   ]
  }
 ],
 "metadata": {
  "kernelspec": {
   "display_name": "Python 3",
   "language": "python",
   "name": "python3"
  },
  "language_info": {
   "codemirror_mode": {
    "name": "ipython",
    "version": 3
   },
   "file_extension": ".py",
   "mimetype": "text/x-python",
   "name": "python",
   "nbconvert_exporter": "python",
   "pygments_lexer": "ipython3",
   "version": "3.9.5"
  }
 },
 "nbformat": 4,
 "nbformat_minor": 5
}
