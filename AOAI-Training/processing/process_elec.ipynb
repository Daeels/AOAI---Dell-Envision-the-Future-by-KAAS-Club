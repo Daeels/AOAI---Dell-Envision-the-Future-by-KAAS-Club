{
 "cells": [
  {
   "cell_type": "code",
   "execution_count": 1,
   "id": "8fd0a0c7",
   "metadata": {},
   "outputs": [],
   "source": [
    "import pickle \n",
    "import os\n",
    "import pandas as pd\n",
    "import numpy as np\n",
    "from sklearn.decomposition import PCA\n",
    "from sklearn.neighbors import KernelDensity\n",
    "import matplotlib.pyplot as plt\n",
    "from scipy.stats import norm\n",
    "import random as r\n",
    "import math\n",
    "import pickle \n",
    "from sklearn import preprocessing\n",
    "from sklearn.tree import DecisionTreeClassifier \n",
    "from sklearn.metrics import * \n",
    "from sklearn.model_selection import train_test_split\n",
    "from sklearn.ensemble import RandomForestRegressor\n",
    "def pickled(variable,string) :\n",
    "    directory = os.path.join(\"pickled\",string+\".pickle\")\n",
    "    pickle_out = open(directory,\"wb\")\n",
    "    pickle.dump(variable,pickle_out)\n",
    "    pickle_out.close()\n",
    "def unpickled(string) :\n",
    "    directory = os.path.join(\"pickled\",string+\".pickle\")\n",
    "    pickle_in = open(directory,\"rb\")\n",
    "    variable = pickle.load(pickle_in)\n",
    "    return variable"
   ]
  },
  {
   "cell_type": "code",
   "execution_count": 2,
   "id": "16caf19d",
   "metadata": {},
   "outputs": [],
   "source": [
    "def ACP_elec(ANALYSE1,ANALYSE2,ALGEBRE2,PROCEFABRICDESSINTECHN,ANALYSEDESCIRCUIOPTIQ,ALGEBRE1,CHIMIE,ELECTRICITE,THERMODYNAMIQUE,LANGUES,TECHNIDEXPRESSCOMMU1,Mecaniquedupoint,ELECTROMAGNETISME,ELECTRONIQUE,ANALYSNUMERPROBSTAT,ALGORITHMIQUEPROGRAMMA,BASEDELACONCEPTION,TECHNOMETALLETTHERMO,TECHNIDOCPRODDOCENTR,DAOETOUTILSDEMATLAB,ALGEBRE3,MECANIQUEDUSOLIDE,TECHNDEXPREETDECOMM,MOYENNE) :\n",
    "    X_elec = unpickled(\"X_elec\")\n",
    "    X_elec.loc[X_elec.index[-1] + 1] = ([ANALYSE1,ANALYSE2,ALGEBRE2,PROCEFABRICDESSINTECHN,ANALYSEDESCIRCUIOPTIQ,ALGEBRE1,CHIMIE,ELECTRICITE,THERMODYNAMIQUE,LANGUES,TECHNIDEXPRESSCOMMU1,Mecaniquedupoint,ELECTROMAGNETISME,ELECTRONIQUE,ANALYSNUMERPROBSTAT,ALGORITHMIQUEPROGRAMMA,BASEDELACONCEPTION,TECHNOMETALLETTHERMO,TECHNIDOCPRODDOCENTR,DAOETOUTILSDEMATLAB,ALGEBRE3,MECANIQUEDUSOLIDE,TECHNDEXPREETDECOMM,MOYENNE])\n",
    "    #Matrice de Correlation\n",
    "    R_elec = np.corrcoef(X_elec.values,rowvar=False)\n",
    "    #Moyennes\n",
    "    moyennes_elec = np.mean(X_elec.values,axis=0)\n",
    "    #vecteur écart-type\n",
    "    s_elec=np.std(X_elec.values,axis=0)\n",
    "    #centrage et réduction \n",
    "    Z_elec=(X_elec.values-moyennes_elec)/s_elec\n",
    "    #calcul des valeurs propres\n",
    "    acp = PCA()\n",
    "    #coordonnées factorielles\n",
    "    coord_elec = acp.fit_transform(Z_elec)\n",
    "    X = coord_elec[-1,:10]\n",
    "    return X   "
   ]
  },
  {
   "cell_type": "code",
   "execution_count": 3,
   "id": "456b4cc1",
   "metadata": {},
   "outputs": [],
   "source": [
    "def train_elec(X) :\n",
    "    #Mecanique\n",
    "    coord_elec = unpickled(\"coord_elec\")\n",
    "    #Normalisation\n",
    "    min_max_scaler_elec = unpickled(\"min_max_scaler_elec\")\n",
    "    clf_elec = unpickled(\"clf_elec\")\n",
    "    y_pred = clf_elec.predict(X.reshape(-1, 1).T) \n",
    "    y_pred = str(float(\"{:.2f}\".format(y_pred[0]*100))) + \"%\"\n",
    "    return y_pred"
   ]
  },
  {
   "cell_type": "code",
   "execution_count": 4,
   "id": "66f6a612",
   "metadata": {},
   "outputs": [
    {
     "name": "stdout",
     "output_type": "stream",
     "text": [
      "[-2.4508484   3.17014669  1.99942134 -0.28663322  2.03283376  1.75592782\n",
      " -1.20804667  0.29604537  0.05131541  0.6699108 ]\n"
     ]
    }
   ],
   "source": [
    "X = ACP_elec(10,10,10,10,10,10,10,10,10,10,10,10,10,10,10,10,10,10,10,10,10,10,10,10) \n",
    "print(X)"
   ]
  },
  {
   "cell_type": "code",
   "execution_count": 5,
   "id": "43b51287",
   "metadata": {},
   "outputs": [
    {
     "name": "stdout",
     "output_type": "stream",
     "text": [
      "76.04%\n"
     ]
    }
   ],
   "source": [
    "y_pred = train_elec(X)\n",
    "print(y_pred)"
   ]
  }
 ],
 "metadata": {
  "kernelspec": {
   "display_name": "Python 3",
   "language": "python",
   "name": "python3"
  },
  "language_info": {
   "codemirror_mode": {
    "name": "ipython",
    "version": 3
   },
   "file_extension": ".py",
   "mimetype": "text/x-python",
   "name": "python",
   "nbconvert_exporter": "python",
   "pygments_lexer": "ipython3",
   "version": "3.9.5"
  }
 },
 "nbformat": 4,
 "nbformat_minor": 5
}
