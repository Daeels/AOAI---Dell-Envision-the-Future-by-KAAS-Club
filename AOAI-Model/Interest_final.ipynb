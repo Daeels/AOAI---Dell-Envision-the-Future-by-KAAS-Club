{
 "cells": [
  {
   "cell_type": "code",
   "execution_count": 1,
   "id": "d353ab94",
   "metadata": {},
   "outputs": [],
   "source": [
    "import pandas as pd\n",
    "import numpy as np\n",
    "import sys\n",
    "import math\n",
    "from pickled import *"
   ]
  },
  {
   "cell_type": "code",
   "execution_count": 2,
   "id": "4dc159d2",
   "metadata": {},
   "outputs": [],
   "source": [
    "clf_elec_interest = unpickled(\"clf_elec_interest\")\n",
    "clf_indus_interest = unpickled(\"clf_indus_interest\")\n",
    "clf_meca_interest = unpickled(\"clf_meca_interest\")"
   ]
  },
  {
   "cell_type": "code",
   "execution_count": 3,
   "id": "6cb0d03f",
   "metadata": {},
   "outputs": [],
   "source": [
    "data = pd.read_csv('temp csv/X_interest.csv')\n",
    "data.head()\n",
    "data.drop([\"FILIERE\",\"Unnamed: 0\"],inplace=True,axis=1)"
   ]
  },
  {
   "cell_type": "code",
   "execution_count": 4,
   "id": "93c344c3",
   "metadata": {},
   "outputs": [
    {
     "name": "stdout",
     "output_type": "stream",
     "text": [
      "[[0.2275 0.075  0.4075 0.715  0.37  ]]\n",
      "[1. 1. 2. 4. 2.]\n"
     ]
    }
   ],
   "source": [
    "#Indus\n",
    "liste = data.iloc[300,:].values.reshape(1,-1)\n",
    "X_indus = clf_indus_interest.predict(liste)\n",
    "print(X_indus)\n",
    "for j in range(len(X_indus[0])) : \n",
    "    X_indus[0][j] = round(X_indus[0][j]*5) \n",
    "    if X_indus[0][j] == 0 :\n",
    "        X_indus[0][j] += 1\n",
    "print(X_indus[0])"
   ]
  },
  {
   "cell_type": "code",
   "execution_count": 5,
   "id": "28e4da74",
   "metadata": {},
   "outputs": [
    {
     "name": "stdout",
     "output_type": "stream",
     "text": [
      "[[0.25  0.    0.525 0.75  0.25 ]]\n",
      "[1. 1. 3. 4. 1.]\n"
     ]
    }
   ],
   "source": [
    "#meca\n",
    "liste = data.iloc[300,:].values.reshape(1,-1)\n",
    "X_meca = clf_meca_interest.predict(liste)\n",
    "print(X_meca)\n",
    "for j in range(len(X_meca[0])) : \n",
    "    X_meca[0][j] = round(X_meca[0][j]*5) \n",
    "    if X_meca[0][j] == 0 :\n",
    "        X_meca[0][j] += 1\n",
    "print(X_meca[0])"
   ]
  },
  {
   "cell_type": "code",
   "execution_count": 6,
   "id": "852b061b",
   "metadata": {},
   "outputs": [
    {
     "name": "stdout",
     "output_type": "stream",
     "text": [
      "[[0.145  0.205  0.1525 0.2475 0.2175]]\n",
      "[1. 1. 1. 1. 1.]\n"
     ]
    }
   ],
   "source": [
    "#elec\n",
    "liste = data.iloc[301,:].values.reshape(1,-1)\n",
    "X_elec = clf_elec_interest.predict(liste)\n",
    "print(X_elec)\n",
    "for j in range(len(X_elec[0])) : \n",
    "    X_elec[0][j] = round(X_elec[0][j]*5) \n",
    "    if X_elec[0][j] == 0 :\n",
    "        X_elec[0][j] += 1\n",
    "print(X_elec[0])"
   ]
  },
  {
   "cell_type": "code",
   "execution_count": 7,
   "id": "56adf78c",
   "metadata": {},
   "outputs": [
    {
     "name": "stdout",
     "output_type": "stream",
     "text": [
      "Industriel : [1. 1. 2. 4. 2.]\n",
      "Mécanique : [1. 1. 3. 4. 1.]\n",
      "Electrique : [1. 1. 1. 1. 1.]\n",
      "Industriel : 20.0% 20.0% 40.0% 80.0% 40.0% \n",
      "Mécanique : 20.0% 20.0% 60.0% 80.0% 20.0% \n",
      "Electrique : 20.0% 20.0% 20.0% 20.0% 20.0% \n"
     ]
    }
   ],
   "source": [
    "print(\"Industriel : {}\".format(X_indus[0]))\n",
    "print(\"Mécanique : {}\".format(X_meca[0]))\n",
    "print(\"Electrique : {}\".format(X_elec[0]))\n",
    "print(\"Industriel : \" + \"\".join([str(x*20)+\"% \" for x in X_indus[0]]))\n",
    "print(\"Mécanique : \" + \"\".join([str(x*20)+\"% \" for x in X_meca[0]]))\n",
    "print(\"Electrique : \" + \"\".join([str(x*20)+\"% \" for x in X_elec[0]]))"
   ]
  }
 ],
 "metadata": {
  "kernelspec": {
   "display_name": "Python 3",
   "language": "python",
   "name": "python3"
  },
  "language_info": {
   "codemirror_mode": {
    "name": "ipython",
    "version": 3
   },
   "file_extension": ".py",
   "mimetype": "text/x-python",
   "name": "python",
   "nbconvert_exporter": "python",
   "pygments_lexer": "ipython3",
   "version": "3.9.5"
  }
 },
 "nbformat": 4,
 "nbformat_minor": 5
}
