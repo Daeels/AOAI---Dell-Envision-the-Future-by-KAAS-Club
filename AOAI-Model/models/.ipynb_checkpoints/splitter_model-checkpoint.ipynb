{
 "cells": [
  {
   "cell_type": "code",
   "execution_count": null,
   "metadata": {},
   "outputs": [],
   "source": [
    "import pandas as pd\n",
    "import numpy as np\n",
    "import pickle \n",
    "import os.path\n",
    "from pickled import *\n",
    "dataFrame = pd.read_csv('dodo.csv',header=None)\n",
    "for i in range(10000) :\n",
    "    dataFrame.loc[i,23] = int(round(dataFrame.loc[i,23],0))\n",
    "    if(dataFrame.loc[i,23] == 3) :\n",
    "        dataFrame.loc[i,23] = 2\n",
    "    if(dataFrame.loc[i,23] == -1) :\n",
    "        dataFrame.loc[i,23] = 0\n",
    "    for j in range(25,30) :\n",
    "        dataFrame.loc[i,j] = round(dataFrame.loc[i,j])\n",
    "        if dataFrame.loc[i,j] == 0 :\n",
    "            dataFrame.loc[i,j] = 1\n",
    "        if dataFrame.loc[i,j] == 6 :\n",
    "            dataFrame.loc[i,j] = 5\n",
    "X = dataFrame.loc[:,:24]\n",
    "X = X.assign(MOYENNE=dataFrame.loc[:,30])\n",
    "X = X.assign(OUTPUT=dataFrame.loc[:,24])\n",
    "X.drop(24,inplace=True,axis=1)\n",
    "X.columns = ['ANALYSE 1','ANALYSE 2','ALGEBRE 2','PROCE FABRIC/DESSIN TECHN','ANALYSE DES CIRCUI /OPTIQ','ALGEBRE 1','CHIMIE','ELECTRICITE','THERMODYNAMIQUE','LANGUES','TECHNI D\\'EXPRESS & COMMU1','Mécanique du point','ELECTROMAGNETISME','ELECTRONIQUE','ANALYS NUMER /PROB & STAT','ALGORITHMIQUE & PROGRAMMA','BASE DE LA CONCEPTION','TECHNO/METALL ET THERMO','TECHNI DOC /PROD DOC/ENTR','DAO ET OUTILS DE MATLAB','ALGEBRE 3','MECANIQUE DU SOLIDE','TECHN D\\'EXPRE ET DE COMM','FILIERE','MOYENNE','OUTPUT']\n",
    "X_indus = X[X['FILIERE'] == 0]; X_meca = X[X['FILIERE'] == 1] ; X_elec = X[X['FILIERE'] == 2]\n",
    "Y_indus = X_indus['OUTPUT'] ; Y_meca = X_meca['OUTPUT'] ; Y_elec = X_elec['OUTPUT']\n",
    "X_indus.drop(columns=['OUTPUT','FILIERE'],inplace=True,axis=1); X_meca.drop(columns=['OUTPUT','FILIERE'],inplace=True,axis=1); X_elec.drop(columns=['OUTPUT','FILIERE'],inplace=True,axis=1)"
   ]
  },
  {
   "cell_type": "code",
   "execution_count": null,
   "metadata": {},
   "outputs": [],
   "source": [
    "X_indus.head()"
   ]
  },
  {
   "cell_type": "code",
   "execution_count": null,
   "metadata": {},
   "outputs": [],
   "source": [
    "X_indus.to_csv(\"X_indus.csv\")\n",
    "X_meca.to_csv(\"X_meca.csv\")\n",
    "X_elec.to_csv(\"X_elec.csv\")"
   ]
  },
  {
   "cell_type": "code",
   "execution_count": null,
   "metadata": {},
   "outputs": [],
   "source": [
    "Y_indus.to_csv(\"Y_indus.csv\")\n",
    "Y_meca.to_csv(\"Y_meca.csv\")\n",
    "Y_elec.to_csv(\"Y_elec.csv\")"
   ]
  }
 ],
 "metadata": {
  "kernelspec": {
   "display_name": "Python 3",
   "language": "python",
   "name": "python3"
  },
  "language_info": {
   "codemirror_mode": {
    "name": "ipython",
    "version": 3
   },
   "file_extension": ".py",
   "mimetype": "text/x-python",
   "name": "python",
   "nbconvert_exporter": "python",
   "pygments_lexer": "ipython3",
   "version": "3.9.5"
  }
 },
 "nbformat": 4,
 "nbformat_minor": 2
}
