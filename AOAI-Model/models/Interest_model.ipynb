{
 "cells": [
  {
   "cell_type": "code",
   "execution_count": 1,
   "metadata": {},
   "outputs": [],
   "source": [
    "#Ce fichier doit être retiré du dossier models vers le workspace principal pour qu'il séexécute correctement\n",
    "import pandas as pd\n",
    "import numpy as np\n",
    "import pickle \n",
    "import os.path\n",
    "from pickled import *\n",
    "from sklearn.preprocessing import MinMaxScaler\n",
    "from sklearn.ensemble import RandomForestRegressor\n",
    "from sklearn.model_selection import train_test_split"
   ]
  },
  {
   "cell_type": "code",
   "execution_count": 2,
   "metadata": {},
   "outputs": [
    {
     "data": {
      "text/html": [
       "<div>\n",
       "<style scoped>\n",
       "    .dataframe tbody tr th:only-of-type {\n",
       "        vertical-align: middle;\n",
       "    }\n",
       "\n",
       "    .dataframe tbody tr th {\n",
       "        vertical-align: top;\n",
       "    }\n",
       "\n",
       "    .dataframe thead th {\n",
       "        text-align: right;\n",
       "    }\n",
       "</style>\n",
       "<table border=\"1\" class=\"dataframe\">\n",
       "  <thead>\n",
       "    <tr style=\"text-align: right;\">\n",
       "      <th></th>\n",
       "      <th>0</th>\n",
       "      <th>1</th>\n",
       "      <th>2</th>\n",
       "      <th>3</th>\n",
       "      <th>4</th>\n",
       "      <th>5</th>\n",
       "      <th>6</th>\n",
       "      <th>7</th>\n",
       "      <th>8</th>\n",
       "      <th>9</th>\n",
       "      <th>...</th>\n",
       "      <th>21</th>\n",
       "      <th>22</th>\n",
       "      <th>23</th>\n",
       "      <th>24</th>\n",
       "      <th>25</th>\n",
       "      <th>26</th>\n",
       "      <th>27</th>\n",
       "      <th>28</th>\n",
       "      <th>29</th>\n",
       "      <th>30</th>\n",
       "    </tr>\n",
       "  </thead>\n",
       "  <tbody>\n",
       "    <tr>\n",
       "      <th>0</th>\n",
       "      <td>10.163</td>\n",
       "      <td>13.003</td>\n",
       "      <td>10.208</td>\n",
       "      <td>8.411</td>\n",
       "      <td>12.385</td>\n",
       "      <td>15.166</td>\n",
       "      <td>14.602</td>\n",
       "      <td>8.880</td>\n",
       "      <td>11.223</td>\n",
       "      <td>12.988</td>\n",
       "      <td>...</td>\n",
       "      <td>8.295</td>\n",
       "      <td>12.474</td>\n",
       "      <td>-0.194</td>\n",
       "      <td>13.427</td>\n",
       "      <td>2.268</td>\n",
       "      <td>0.617</td>\n",
       "      <td>1.723</td>\n",
       "      <td>1.327</td>\n",
       "      <td>3.270</td>\n",
       "      <td>11.538</td>\n",
       "    </tr>\n",
       "    <tr>\n",
       "      <th>1</th>\n",
       "      <td>5.958</td>\n",
       "      <td>4.603</td>\n",
       "      <td>10.742</td>\n",
       "      <td>10.881</td>\n",
       "      <td>12.890</td>\n",
       "      <td>13.133</td>\n",
       "      <td>12.188</td>\n",
       "      <td>11.788</td>\n",
       "      <td>13.458</td>\n",
       "      <td>13.396</td>\n",
       "      <td>...</td>\n",
       "      <td>6.989</td>\n",
       "      <td>12.833</td>\n",
       "      <td>2.032</td>\n",
       "      <td>12.000</td>\n",
       "      <td>2.399</td>\n",
       "      <td>0.365</td>\n",
       "      <td>2.018</td>\n",
       "      <td>2.031</td>\n",
       "      <td>1.888</td>\n",
       "      <td>11.075</td>\n",
       "    </tr>\n",
       "    <tr>\n",
       "      <th>2</th>\n",
       "      <td>13.577</td>\n",
       "      <td>13.916</td>\n",
       "      <td>19.037</td>\n",
       "      <td>10.794</td>\n",
       "      <td>15.338</td>\n",
       "      <td>19.827</td>\n",
       "      <td>16.489</td>\n",
       "      <td>12.529</td>\n",
       "      <td>16.101</td>\n",
       "      <td>14.389</td>\n",
       "      <td>...</td>\n",
       "      <td>11.852</td>\n",
       "      <td>13.609</td>\n",
       "      <td>-0.074</td>\n",
       "      <td>15.044</td>\n",
       "      <td>2.033</td>\n",
       "      <td>2.259</td>\n",
       "      <td>1.771</td>\n",
       "      <td>1.810</td>\n",
       "      <td>1.666</td>\n",
       "      <td>15.029</td>\n",
       "    </tr>\n",
       "    <tr>\n",
       "      <th>3</th>\n",
       "      <td>8.450</td>\n",
       "      <td>12.192</td>\n",
       "      <td>12.672</td>\n",
       "      <td>10.732</td>\n",
       "      <td>11.974</td>\n",
       "      <td>13.774</td>\n",
       "      <td>11.411</td>\n",
       "      <td>12.504</td>\n",
       "      <td>12.852</td>\n",
       "      <td>14.361</td>\n",
       "      <td>...</td>\n",
       "      <td>9.303</td>\n",
       "      <td>12.070</td>\n",
       "      <td>-0.101</td>\n",
       "      <td>13.414</td>\n",
       "      <td>1.886</td>\n",
       "      <td>1.624</td>\n",
       "      <td>1.948</td>\n",
       "      <td>1.811</td>\n",
       "      <td>1.581</td>\n",
       "      <td>12.317</td>\n",
       "    </tr>\n",
       "    <tr>\n",
       "      <th>4</th>\n",
       "      <td>5.651</td>\n",
       "      <td>13.475</td>\n",
       "      <td>12.742</td>\n",
       "      <td>13.640</td>\n",
       "      <td>11.611</td>\n",
       "      <td>5.052</td>\n",
       "      <td>6.040</td>\n",
       "      <td>7.804</td>\n",
       "      <td>7.767</td>\n",
       "      <td>11.026</td>\n",
       "      <td>...</td>\n",
       "      <td>6.881</td>\n",
       "      <td>12.439</td>\n",
       "      <td>1.042</td>\n",
       "      <td>11.647</td>\n",
       "      <td>1.786</td>\n",
       "      <td>2.237</td>\n",
       "      <td>2.126</td>\n",
       "      <td>1.297</td>\n",
       "      <td>2.017</td>\n",
       "      <td>10.529</td>\n",
       "    </tr>\n",
       "  </tbody>\n",
       "</table>\n",
       "<p>5 rows × 31 columns</p>\n",
       "</div>"
      ],
      "text/plain": [
       "       0       1       2       3       4       5       6       7       8   \\\n",
       "0  10.163  13.003  10.208   8.411  12.385  15.166  14.602   8.880  11.223   \n",
       "1   5.958   4.603  10.742  10.881  12.890  13.133  12.188  11.788  13.458   \n",
       "2  13.577  13.916  19.037  10.794  15.338  19.827  16.489  12.529  16.101   \n",
       "3   8.450  12.192  12.672  10.732  11.974  13.774  11.411  12.504  12.852   \n",
       "4   5.651  13.475  12.742  13.640  11.611   5.052   6.040   7.804   7.767   \n",
       "\n",
       "       9   ...      21      22     23      24     25     26     27     28  \\\n",
       "0  12.988  ...   8.295  12.474 -0.194  13.427  2.268  0.617  1.723  1.327   \n",
       "1  13.396  ...   6.989  12.833  2.032  12.000  2.399  0.365  2.018  2.031   \n",
       "2  14.389  ...  11.852  13.609 -0.074  15.044  2.033  2.259  1.771  1.810   \n",
       "3  14.361  ...   9.303  12.070 -0.101  13.414  1.886  1.624  1.948  1.811   \n",
       "4  11.026  ...   6.881  12.439  1.042  11.647  1.786  2.237  2.126  1.297   \n",
       "\n",
       "      29      30  \n",
       "0  3.270  11.538  \n",
       "1  1.888  11.075  \n",
       "2  1.666  15.029  \n",
       "3  1.581  12.317  \n",
       "4  2.017  10.529  \n",
       "\n",
       "[5 rows x 31 columns]"
      ]
     },
     "execution_count": 2,
     "metadata": {},
     "output_type": "execute_result"
    }
   ],
   "source": [
    "data = pd.read_csv('dodo.csv',header=None)\n",
    "data.head()"
   ]
  },
  {
   "cell_type": "code",
   "execution_count": 3,
   "metadata": {},
   "outputs": [],
   "source": [
    "for i in range(10000) :\n",
    "    data.loc[i,23] = int(round(data.loc[i,23],0))\n",
    "    if(data.loc[i,23] == 3) :\n",
    "        data.loc[i,23] = 2\n",
    "    if(data.loc[i,23] == -1) :\n",
    "        data.loc[i,23] = 0\n",
    "    for j in range(25,30) :\n",
    "        data.loc[i,j] = round(data.loc[i,j])\n",
    "        if data.loc[i,j] == 0 :\n",
    "            data.loc[i,j] = 1\n",
    "        if data.loc[i,j] == 6 :\n",
    "            data.loc[i,j] = 5 "
   ]
  },
  {
   "cell_type": "code",
   "execution_count": 4,
   "metadata": {
    "scrolled": true
   },
   "outputs": [],
   "source": [
    "data = data.loc[:,23:29]\n",
    "data.columns = ['FILIERE','OUTPUT','CONFIDENCE','INSERTIONSATISFACTION','RELATEDTOFIELD','CONDITIONS','SALAIRE']\n",
    "data.to_csv(\"cleaned_interest.csv\")"
   ]
  },
  {
   "cell_type": "code",
   "execution_count": 5,
   "metadata": {},
   "outputs": [
    {
     "name": "stderr",
     "output_type": "stream",
     "text": [
      "C:\\Users\\lenovo\\anaconda3\\envs\\aoai\\lib\\site-packages\\pandas\\core\\frame.py:4901: SettingWithCopyWarning: \n",
      "A value is trying to be set on a copy of a slice from a DataFrame\n",
      "\n",
      "See the caveats in the documentation: https://pandas.pydata.org/pandas-docs/stable/user_guide/indexing.html#returning-a-view-versus-a-copy\n",
      "  return super().drop(\n"
     ]
    }
   ],
   "source": [
    "X_indus_interest = data[data['FILIERE'] == 0]; X_meca_interest = data[data['FILIERE'] == 1] ; X_elec_interest = data[data['FILIERE'] == 2]\n",
    "Y_indus_interest = X_indus_interest['OUTPUT'] ; Y_meca_interest = X_meca_interest['OUTPUT'] ; Y_elec_interest = X_elec_interest['OUTPUT']\n",
    "X_indus_interest.drop(columns=['OUTPUT','FILIERE'],inplace=True,axis=1); X_meca_interest.drop(columns=['OUTPUT','FILIERE'],inplace=True,axis=1); X_elec_interest.drop(columns=['OUTPUT','FILIERE'],inplace=True,axis=1)"
   ]
  },
  {
   "cell_type": "code",
   "execution_count": 6,
   "metadata": {},
   "outputs": [
    {
     "name": "stdout",
     "output_type": "stream",
     "text": [
      "0.6\n",
      "0.5\n"
     ]
    }
   ],
   "source": [
    "#indus\n",
    "Y_indus_interest = Y_indus_interest.values.reshape(-1, 1)\n",
    "scaler_indus_interest = MinMaxScaler()\n",
    "Y_indus_interest = scaler_indus_interest.fit_transform(Y_indus_interest).ravel()\n",
    "X_indus_interest_train, X_indus_interest_test, Y_indus_interest_train, Y_indus_interest_test = train_test_split(X_indus_interest,Y_indus_interest,test_size=0.2)\n",
    "clf_indus_interest = RandomForestRegressor(n_estimators=100)\n",
    "clf_indus_interest.fit(X_indus_interest_train, Y_indus_interest_train)\n",
    "score_train = float(\"{:.2f}\".format(clf_indus_interest.score(X_indus_interest_train, Y_indus_interest_train)))\n",
    "print(score_train)\n",
    "score_test = float(\"{:.2f}\".format(clf_indus_interest.score(X_indus_interest_test, Y_indus_interest_test)))\n",
    "print(score_test)\n",
    "pickled(clf_indus_interest,\"clf_indus_interest\")"
   ]
  },
  {
   "cell_type": "code",
   "execution_count": 7,
   "metadata": {},
   "outputs": [
    {
     "name": "stdout",
     "output_type": "stream",
     "text": [
      "0.66\n",
      "0.58\n"
     ]
    }
   ],
   "source": [
    "#meca\n",
    "Y_meca_interest = Y_meca_interest.values.reshape(-1, 1)\n",
    "scaler_meca_interest = MinMaxScaler()\n",
    "Y_meca_interest = scaler_meca_interest.fit_transform(Y_meca_interest).ravel()\n",
    "X_meca_interest_train, X_meca_interest_test, Y_meca_interest_train, Y_meca_interest_test = train_test_split(X_meca_interest,Y_meca_interest,test_size=0.2)\n",
    "clf_meca_interest = RandomForestRegressor(n_estimators=100)\n",
    "clf_meca_interest.fit(X_meca_interest_train, Y_meca_interest_train)\n",
    "score_train = float(\"{:.2f}\".format(clf_meca_interest.score(X_meca_interest_train, Y_meca_interest_train)))\n",
    "print(score_train)\n",
    "score_test = float(\"{:.2f}\".format(clf_meca_interest.score(X_meca_interest_test, Y_meca_interest_test)))\n",
    "print(score_test)\n",
    "\n",
    "pickled(clf_meca_interest,\"clf_meca_interest\")\n"
   ]
  },
  {
   "cell_type": "code",
   "execution_count": 8,
   "metadata": {},
   "outputs": [
    {
     "name": "stdout",
     "output_type": "stream",
     "text": [
      "0.83\n",
      "0.76\n"
     ]
    }
   ],
   "source": [
    "#elec\n",
    "Y_elec_interest = Y_elec_interest.values.reshape(-1, 1)\n",
    "scaler_elec_interest = MinMaxScaler()\n",
    "Y_elec_interest = scaler_elec_interest.fit_transform(Y_elec_interest).ravel()\n",
    "X_elec_interest_train, X_elec_interest_test, Y_elec_interest_train, Y_elec_interest_test = train_test_split(X_elec_interest,Y_elec_interest,test_size=0.2)\n",
    "clf_elec_interest = RandomForestRegressor(n_estimators=100)\n",
    "clf_elec_interest.fit(X_elec_interest_train, Y_elec_interest_train)\n",
    "score_train = float(\"{:.2f}\".format(clf_elec_interest.score(X_elec_interest_train, Y_elec_interest_train)))\n",
    "print(score_train)\n",
    "score_test = float(\"{:.2f}\".format(clf_elec_interest.score(X_elec_interest_test, Y_elec_interest_test)))\n",
    "print(score_test)\n",
    "\n",
    "pickled(clf_elec_interest,\"clf_elec_interest\")\n"
   ]
  }
 ],
 "metadata": {
  "kernelspec": {
   "display_name": "Python 3",
   "language": "python",
   "name": "python3"
  },
  "language_info": {
   "codemirror_mode": {
    "name": "ipython",
    "version": 3
   },
   "file_extension": ".py",
   "mimetype": "text/x-python",
   "name": "python",
   "nbconvert_exporter": "python",
   "pygments_lexer": "ipython3",
   "version": "3.9.5"
  }
 },
 "nbformat": 4,
 "nbformat_minor": 2
}
